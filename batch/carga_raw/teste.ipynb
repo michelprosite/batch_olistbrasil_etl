{
 "cells": [
  {
   "cell_type": "code",
   "execution_count": null,
   "metadata": {},
   "outputs": [],
   "source": [
    "import os\n",
    "import shutil\n",
    "import pandas as pd\n",
    "\n",
    "# Diretórios de origem e destino\n",
    "dir_transiente = '/home/michel/Documentos/batch_olistbrasil_etl/data/transient'\n",
    "dir_raw = '/home/michel/Documentos/batch_olistbrasil_etl/data/raw'\n",
    "\n",
    "# Lista de arquivos na pasta 'transient'\n",
    "arquivos_transiente = os.listdir(dir_transiente)\n",
    "\n",
    "# Lista de arquivos na pasta 'raw'\n",
    "arquivos_raw = os.listdir(dir_raw)\n",
    "\n",
    "# Percorra os arquivos na pasta 'transient'\n",
    "for arquivo in arquivos_transiente:\n",
    "    caminho_arquivo_transiente = os.path.join(dir_transiente, arquivo)\n",
    "    caminho_arquivo_raw = os.path.join(dir_raw, arquivo)\n",
    "\n",
    "    # Verifique se o arquivo já existe na pasta 'raw'\n",
    "    if arquivo in arquivos_raw:\n",
    "        # Se o arquivo já existe na pasta 'raw, faça a concatenação e elimine as duplicatas\n",
    "        df_transiente = pd.read_csv(caminho_arquivo_transiente)\n",
    "        df_raw = pd.read_csv(caminho_arquivo_raw)\n",
    "\n",
    "        # Combine os DataFrames e elimine as duplicatas\n",
    "        df_combined = pd.concat([df_raw, df_transiente])\n",
    "        df_combined = df_combined.drop_duplicates()\n",
    "\n",
    "        # Salve o arquivo atualizado na pasta 'raw'\n",
    "        df_combined.to_csv(caminho_arquivo_raw, index=False)\n",
    "        print(f'Arquivo {arquivo} atualizado em raw.')\n",
    "    else:\n",
    "        # Se o arquivo não existe na pasta 'raw, crie um novo\n",
    "        shutil.copy(caminho_arquivo_transiente, caminho_arquivo_raw)\n",
    "        print(f'Arquivo {arquivo} criado em raw.')\n",
    "\n",
    "print('Processo concluído.')"
   ]
  }
 ],
 "metadata": {
  "language_info": {
   "name": "python"
  }
 },
 "nbformat": 4,
 "nbformat_minor": 2
}
